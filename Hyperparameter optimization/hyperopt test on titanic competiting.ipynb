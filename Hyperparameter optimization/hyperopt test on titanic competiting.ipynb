{
 "cells": [
  {
   "cell_type": "code",
   "execution_count": 1,
   "metadata": {},
   "outputs": [
    {
     "name": "stderr",
     "output_type": "stream",
     "text": [
      "/usr/local/lib/python3.5/dist-packages/seaborn/categorical.py:1460: FutureWarning: remove_na is deprecated and is a private function. Do not use.\n",
      "  stat_data = remove_na(group_data)\n",
      "/usr/local/lib/python3.5/dist-packages/pandas/core/computation/check.py:17: UserWarning: The installed version of numexpr 2.4.3 is not supported in pandas and will be not be used\n",
      "The minimum supported version is 2.4.6\n",
      "\n",
      "  ver=ver, min_ver=_MIN_NUMEXPR_VERSION), UserWarning)\n",
      "/usr/local/lib/python3.5/dist-packages/pandas/core/indexing.py:194: SettingWithCopyWarning: \n",
      "A value is trying to be set on a copy of a slice from a DataFrame\n",
      "\n",
      "See the caveats in the documentation: http://pandas.pydata.org/pandas-docs/stable/indexing.html#indexing-view-versus-copy\n",
      "  self._setitem_with_indexer(indexer, value)\n"
     ]
    }
   ],
   "source": [
    "# Kaggle: Titanic competition\n",
    "\n",
    "# Importing the libraries\n",
    "import numpy as np\n",
    "import matplotlib.pyplot as plt\n",
    "import pandas as pd\n",
    "import seaborn as sns\n",
    "\n",
    "# Importing the dataset\n",
    "train = pd.read_csv('train.csv')\n",
    "test = pd.read_csv('test.csv')\n",
    "\n",
    "# Dropping unecessary features\n",
    "train = train.drop(['PassengerId','Ticket','Cabin','Name','Embarked'], axis=1)\n",
    "PassengerId = test['PassengerId']\n",
    "test = test.drop(['Name','Ticket','Cabin','Name','Embarked','PassengerId'], axis=1)\n",
    "\n",
    "# Filling missing values in the training set, with the most occurency\n",
    "test['Fare'].fillna(test['Fare'].median(), inplace = True)\n",
    "train['Age'].fillna(train['Age'].mean(), inplace = True)\n",
    "test['Age'].fillna(test['Age'].mean(), inplace = True)\n",
    "\n",
    "# Getting childs \n",
    "def get_person(passenger):\n",
    "    age, sex = passenger\n",
    "    return 'child' if age < 16 else sex\n",
    "\n",
    "train['Person'] = train[['Age','Sex']].apply(get_person, axis=1)\n",
    "test['Person'] = test[['Age','Sex']].apply(get_person, axis=1)\n",
    "\n",
    "train.drop(['Sex'],axis = 1, inplace = True)\n",
    "test.drop(['Sex'],axis = 1, inplace = True)\n",
    "\n",
    "# create dummy variables for Person column, & drop Male as it has the lowest average of survived passengers\n",
    "person_dummies_titanic  = pd.get_dummies(train['Person'])\n",
    "person_dummies_titanic.columns = ['Child','Female','Male']\n",
    "person_dummies_titanic.drop(['Male'], axis=1, inplace=True)\n",
    "\n",
    "person_dummies_test  = pd.get_dummies(test['Person'])\n",
    "person_dummies_test.columns = ['Child','Female','Male']\n",
    "person_dummies_test.drop(['Male'], axis=1, inplace=True)\n",
    "\n",
    "train = train.join(person_dummies_titanic)\n",
    "test = test.join(person_dummies_test)\n",
    "\n",
    "train.drop(['Person'], axis = 1, inplace = True)\n",
    "test.drop(['Person'], axis = 1, inplace = True)\n",
    "\n",
    "# create dummy variables for Person column, & drop Male as it has the lowest average of survived passengers\n",
    "sns.factorplot('Pclass','Survived',order=[1,2,3], data=train,size=5)\n",
    "pclass_dummies = pd.get_dummies(train['Pclass'])\n",
    "pclass_dummies.columns = ['class1','class2','class3']\n",
    "pclass_dummies.drop(['class3'], axis=1, inplace = True)\n",
    "\n",
    "pclass_dummies_train = pd.get_dummies(train['Pclass'])\n",
    "pclass_dummies_train.columns = ['class1','class2','class3']\n",
    "pclass_dummies_train.drop(['class3'], axis=1, inplace = True)\n",
    "\n",
    "pclass_dummies_test = pd.get_dummies(test['Pclass'])\n",
    "pclass_dummies_test.columns = ['class1','class2','class3']\n",
    "pclass_dummies_test.drop(['class3'], axis=1, inplace = True)\n",
    "\n",
    "train.drop(['Pclass'], axis=1, inplace = True)\n",
    "test.drop(['Pclass'], axis=1, inplace = True)\n",
    "\n",
    "# Handling family members\n",
    "train['Family'] = train['SibSp'] + train['Parch']\n",
    "train['Family'].loc[train['Family'] > 0] = 1\n",
    "train['Family'].loc[train['Family'] == 0] = 0\n",
    "\n",
    "test['Family'] = test['SibSp'] + test['Parch']\n",
    "test['Family'].loc[test['Family'] > 0] = 1\n",
    "test['Family'].loc[test['Family'] == 0] = 0\n",
    "\n",
    "train.drop(['SibSp','Parch'],axis=1, inplace=True)\n",
    "test.drop(['SibSp','Parch'],axis=1, inplace=True)\n",
    "\n",
    "# Getting the training data and target variable\n",
    "y_train = train['Survived']\n",
    "X_train = train.drop(['Survived'], axis=1)\n",
    "X_test = test\n",
    "\n",
    "# Feature Scaling\n",
    "from sklearn.preprocessing import StandardScaler\n",
    "sc = StandardScaler()\n",
    "X_train = sc.fit_transform(X_train)\n",
    "X_test = sc.transform(X_test)"
   ]
  },
  {
   "cell_type": "code",
   "execution_count": 2,
   "metadata": {},
   "outputs": [],
   "source": [
    "from hyperopt import fmin, rand, tpe, hp, STATUS_OK, Trials\n",
    "from sklearn.ensemble import RandomForestClassifier\n",
    "from sklearn.metrics import accuracy_score, mean_squared_error"
   ]
  },
  {
   "cell_type": "code",
   "execution_count": 3,
   "metadata": {},
   "outputs": [],
   "source": [
    "space_base = {'n_estimators': 200,\n",
    "            'criterion': 'entropy',\n",
    "            'max_depth': 2,\n",
    "            'min_samples_split': 2}\n",
    "            #'min_samples_leaf': 2}\n",
    "\n",
    "space_hp = {'n_estimators': hp.choice('estm', [100,200,300,400,500]),\n",
    "            'criterion': hp.choice('crit', ['gini', 'entropy']),\n",
    "            'max_depth': hp.quniform('dep', 1,10,1),\n",
    "            'min_samples_split': hp.choice('samp', [0.1, 0.3, 0.5])}\n",
    "            #'min_samples_leaf': hp.quniform('leaf',2,10,1)}"
   ]
  },
  {
   "cell_type": "code",
   "execution_count": 4,
   "metadata": {},
   "outputs": [],
   "source": [
    "def optim_target(X_train, y_train, n_estimators, criterion, max_depth, min_samples_split, random_state = 0):\n",
    "    np.random.seed(42)\n",
    "    \n",
    "    classifier = RandomForestClassifier(n_estimators=n_estimators, criterion=criterion, max_depth=max_depth, min_samples_split=min_samples_split, random_state = 0)\n",
    "    classifier.fit(X_train, y_train)\n",
    "    y_pred = classifier.predict(X_train)\n",
    "    \n",
    "    acc = accuracy_score(y_train, y_pred)\n",
    "    \n",
    "    params = {'n_estimators': n_estimators,\n",
    "            'criterion': criterion,\n",
    "            'max_depth': max_depth,\n",
    "            'min_samples_split': min_samples_split}\n",
    "            #'min_samples_leaf': min_samples_leaf}\n",
    "    \n",
    "    return acc, params "
   ]
  },
  {
   "cell_type": "code",
   "execution_count": 5,
   "metadata": {},
   "outputs": [
    {
     "name": "stdout",
     "output_type": "stream",
     "text": [
      "0.792368125701459\n"
     ]
    }
   ],
   "source": [
    "acc, params = optim_target(X_train, y_train, **space_base)\n",
    "\n",
    "print('{}'.format(acc))"
   ]
  },
  {
   "cell_type": "code",
   "execution_count": 6,
   "metadata": {},
   "outputs": [],
   "source": [
    "# wrapper for hyperopt #\n",
    "\n",
    "# hyperopt minimizes functions, so our target value is set\n",
    "class hp_wrapper:\n",
    "    \n",
    "    def __init__(self, X_train, y_train):\n",
    "        self.X_train = X_train\n",
    "        self.y_train = y_train\n",
    "    \n",
    "    def target(self, space):\n",
    "        \n",
    "        acc, params = optim_target(self.X_train, self.y_train, **space)\n",
    "    \n",
    "        # a dict with 'loss' and 'status' is required\n",
    "        return {'loss': 1-acc,\n",
    "                'status': STATUS_OK,\n",
    "                'parameters': params}"
   ]
  },
  {
   "cell_type": "code",
   "execution_count": 7,
   "metadata": {},
   "outputs": [
    {
     "data": {
      "text/plain": [
       "0.20763187429854102"
      ]
     },
     "execution_count": 7,
     "metadata": {},
     "output_type": "execute_result"
    }
   ],
   "source": [
    "opt_task = hp_wrapper(X_train, y_train)\n",
    "opt_task.target(space_base)['loss']"
   ]
  },
  {
   "cell_type": "code",
   "execution_count": 8,
   "metadata": {},
   "outputs": [],
   "source": [
    "# random search #\n",
    "\n",
    "# initializing wrapper - hyperopt\n",
    "opt_task_hp = hp_wrapper(X_train, y_train)\n",
    "\n",
    "# trials object stores the evaluations\n",
    "trials_rand = Trials()\n",
    "\n",
    "# using the fmin function from hyperopt\n",
    "best = fmin(fn=opt_task_hp.target, algo=rand.suggest, space=space_hp, max_evals=50, trials=trials_rand)\n",
    "\n",
    "# storing the results\n",
    "#experiment_dict['well_sep']['rand'] = [trials_rand.trials[i]['result'] for i in range(len(trials_rand.trials))]"
   ]
  },
  {
   "cell_type": "code",
   "execution_count": 9,
   "metadata": {},
   "outputs": [
    {
     "name": "stdout",
     "output_type": "stream",
     "text": [
      "{'crit': 1, 'samp': 0, 'estm': 0, 'dep': 9.0}\n"
     ]
    }
   ],
   "source": [
    "print(best)"
   ]
  },
  {
   "cell_type": "code",
   "execution_count": 10,
   "metadata": {},
   "outputs": [
    {
     "data": {
      "text/plain": [
       "0.8002244668911336"
      ]
     },
     "execution_count": 10,
     "metadata": {},
     "output_type": "execute_result"
    }
   ],
   "source": [
    "classifier = RandomForestClassifier(n_estimators=100, criterion='entropy', max_depth=7.0, min_samples_split=0.1, random_state = 0)\n",
    "classifier.fit(X_train, y_train)\n",
    "classifier.score(X_train, y_train)"
   ]
  },
  {
   "cell_type": "code",
   "execution_count": null,
   "metadata": {},
   "outputs": [],
   "source": []
  }
 ],
 "metadata": {
  "kernelspec": {
   "display_name": "Python 3",
   "language": "python",
   "name": "python3"
  },
  "language_info": {
   "codemirror_mode": {
    "name": "ipython",
    "version": 3
   },
   "file_extension": ".py",
   "mimetype": "text/x-python",
   "name": "python",
   "nbconvert_exporter": "python",
   "pygments_lexer": "ipython3",
   "version": "3.5.2"
  }
 },
 "nbformat": 4,
 "nbformat_minor": 2
}
