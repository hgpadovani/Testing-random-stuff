{
 "cells": [
  {
   "cell_type": "code",
   "execution_count": null,
   "metadata": {},
   "outputs": [],
   "source": [
    "import numpy as np\n",
    "import matplotlib.pyplot as plt\n",
    "\n",
    "from sklearn import metrics\n",
    "from sklearn.cluster import KMeans\n",
    "from sklearn.datasets import load_digits\n",
    "from sklearn.decomposition import PCA\n",
    "from sklearn.preprocessing import scale\n",
    "from sklearn.cluster import KMeans\n",
    "from sklearn.manifold import TSNE\n",
    "import seaborn as sns\n",
    "from matplotlib import offsetbox\n",
    "\n",
    "\n",
    "%matplotlib inline"
   ]
  },
  {
   "cell_type": "code",
   "execution_count": null,
   "metadata": {},
   "outputs": [],
   "source": [
    "def plot_embedding(X, title=None):\n",
    "    \"\"\"funcao que realiza o plot de X, obtido pelo t-SNE\n",
    "    Parametros\n",
    "    ----------\n",
    "    Inputs:\n",
    "        X: vetores para plotar\n",
    "        title (None): titulo opcional para o grafico\n",
    "    Return:\n",
    "        None\n",
    "    \"\"\"\n",
    "    \n",
    "    x_min, x_max = np.min(X, 0), np.max(X, 0)\n",
    "    X = (X - x_min) / (x_max - x_min)\n",
    "\n",
    "    plt.figure(figsize=(12,10))\n",
    "    ax = plt.subplot(111)\n",
    "    for i in range(X.shape[0]):\n",
    "        plt.text(X[i, 0], X[i, 1], str(digits.target[i]),\n",
    "                 color = plt.cm.Set1(y[i]),\n",
    "                 fontdict={'weight': 'bold', 'size': 9})\n",
    "    if title is not None:\n",
    "        plt.title(title)"
   ]
  },
  {
   "cell_type": "code",
   "execution_count": null,
   "metadata": {},
   "outputs": [],
   "source": [
    "digits = load_digits()\n",
    "digits"
   ]
  },
  {
   "cell_type": "code",
   "execution_count": null,
   "metadata": {},
   "outputs": [],
   "source": [
    "pixels = digits.data[4,:]\n",
    "pixels"
   ]
  },
  {
   "cell_type": "code",
   "execution_count": null,
   "metadata": {},
   "outputs": [],
   "source": [
    "pixels = np.array(pixels, dtype='uint8')\n",
    "pixels = pixels.reshape((8, 8))\n",
    "\n",
    "# Plot\n",
    "plt.imshow(pixels, cmap='gray')\n",
    "plt.show()"
   ]
  },
  {
   "cell_type": "code",
   "execution_count": null,
   "metadata": {},
   "outputs": [],
   "source": [
    "X = scale(digits.data)\n",
    "y = digits.target"
   ]
  },
  {
   "cell_type": "code",
   "execution_count": null,
   "metadata": {},
   "outputs": [],
   "source": [
    "X"
   ]
  },
  {
   "cell_type": "code",
   "execution_count": null,
   "metadata": {},
   "outputs": [],
   "source": [
    "y"
   ]
  },
  {
   "cell_type": "code",
   "execution_count": null,
   "metadata": {},
   "outputs": [],
   "source": [
    "print(X.shape)\n",
    "print(y.shape)"
   ]
  },
  {
   "cell_type": "code",
   "execution_count": null,
   "metadata": {},
   "outputs": [],
   "source": [
    "tsne = TSNE(n_components = 2, perplexity = 50, early_exaggeration = 12, random_state = 42)"
   ]
  },
  {
   "cell_type": "code",
   "execution_count": null,
   "metadata": {},
   "outputs": [],
   "source": [
    "X_emb = tsne.fit_transform(X)"
   ]
  },
  {
   "cell_type": "code",
   "execution_count": null,
   "metadata": {},
   "outputs": [],
   "source": [
    "X_emb"
   ]
  },
  {
   "cell_type": "code",
   "execution_count": null,
   "metadata": {},
   "outputs": [],
   "source": [
    "plot_embedding(X_emb, \"t-SNE embedding of the digits\")"
   ]
  },
  {
   "cell_type": "code",
   "execution_count": null,
   "metadata": {},
   "outputs": [],
   "source": [
    "# clusterização dos dados\n",
    "X_reduced = PCA(n_components=2, random_state = 42).fit_transform(X)\n",
    "X_reduced"
   ]
  },
  {
   "cell_type": "code",
   "execution_count": null,
   "metadata": {},
   "outputs": [],
   "source": [
    "# rodando kmeans\n",
    "kmeans = KMeans(n_clusters = 10, init = 'k-means++', max_iter = 300, n_init = 10, random_state = 42)\n",
    "y_kmeans = kmeans.fit_predict(X_reduced)"
   ]
  },
  {
   "cell_type": "code",
   "execution_count": null,
   "metadata": {},
   "outputs": [],
   "source": [
    "# Plotando os clusters\n",
    "plt.scatter(X_reduced[y_kmeans == 0, 0], X_reduced[y_kmeans == 0, 1], s = 100, c = 'red', label = '0')\n",
    "plt.scatter(X_reduced[y_kmeans == 1, 0], X_reduced[y_kmeans == 1, 1], s = 100, c = 'blue', label = '1')\n",
    "plt.scatter(X_reduced[y_kmeans == 2, 0], X_reduced[y_kmeans == 2, 1], s = 100, c = 'green', label = '2')\n",
    "plt.scatter(X_reduced[y_kmeans == 3, 0], X_reduced[y_kmeans == 3, 1], s = 100, c = 'cyan', label = '3')\n",
    "plt.scatter(X_reduced[y_kmeans == 4, 0], X_reduced[y_kmeans == 4, 1], s = 100, c = 'magenta', label = '4')\n",
    "plt.scatter(X_reduced[y_kmeans == 5, 0], X_reduced[y_kmeans == 5, 1], s = 100, c = 'purple', label = '5')\n",
    "plt.scatter(X_reduced[y_kmeans == 6, 0], X_reduced[y_kmeans == 6, 1], s = 100, c = 'brown', label = '6')\n",
    "plt.scatter(X_reduced[y_kmeans == 7, 0], X_reduced[y_kmeans == 7, 1], s = 100, c = 'pink', label = '7')\n",
    "plt.scatter(X_reduced[y_kmeans == 8, 0], X_reduced[y_kmeans == 8, 1], s = 100, c = 'gray', label = '8')\n",
    "plt.scatter(X_reduced[y_kmeans == 9, 0], X_reduced[y_kmeans == 9, 1], s = 100, c = 'olive', label = '9')\n",
    "plt.title('Clusters de números')\n",
    "plt.xlabel('PC1')\n",
    "plt.ylabel('PC2')\n",
    "plt.legend()\n",
    "plt.show()"
   ]
  },
  {
   "cell_type": "code",
   "execution_count": null,
   "metadata": {},
   "outputs": [],
   "source": []
  }
 ],
 "metadata": {
  "kernelspec": {
   "display_name": "Python 3",
   "language": "python",
   "name": "python3"
  },
  "language_info": {
   "codemirror_mode": {
    "name": "ipython",
    "version": 3
   },
   "file_extension": ".py",
   "mimetype": "text/x-python",
   "name": "python",
   "nbconvert_exporter": "python",
   "pygments_lexer": "ipython3",
   "version": "3.5.2"
  }
 },
 "nbformat": 4,
 "nbformat_minor": 2
}
